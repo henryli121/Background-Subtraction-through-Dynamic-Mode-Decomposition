{
 "cells": [
  {
   "cell_type": "code",
   "execution_count": 1,
   "id": "d30ca3d7-77c4-47d2-b254-4ab6c7e17a7c",
   "metadata": {
    "tags": []
   },
   "outputs": [],
   "source": [
    "import numpy as np\n",
    "import matplotlib.pyplot as plt\n",
    "import scipy.io\n",
    "import copy\n",
    "\n",
    "from numpy import linalg as LA"
   ]
  },
  {
   "cell_type": "code",
   "execution_count": 2,
   "id": "18975952-ed69-4f47-b7eb-459b908c038c",
   "metadata": {
    "tags": []
   },
   "outputs": [],
   "source": [
    "X = scipy.io.loadmat('CP5_data.mat')['data']\n",
    "X1 = X[:, :-1]\n",
    "X2 = X[:, 1:]"
   ]
  },
  {
   "cell_type": "code",
   "execution_count": 3,
   "id": "16af8d81-f746-4bdf-a133-40ac6cae0fed",
   "metadata": {
    "tags": []
   },
   "outputs": [],
   "source": [
    "U, Sigma, Vh = LA.svd(X1, full_matrices=False)\n",
    "S = U.T@X2@Vh.T@np.diag(1/Sigma)\n",
    "A1 = copy.copy(S)"
   ]
  },
  {
   "cell_type": "code",
   "execution_count": 4,
   "id": "933dd3a7-05e3-44b5-b345-834921e0de20",
   "metadata": {
    "tags": []
   },
   "outputs": [],
   "source": [
    "# ind = np.argmin(w)\n",
    "# eV = np.zeros(v.shape, dtype=np.complex_)\n",
    "# eV[ind] = v.T[ind]"
   ]
  },
  {
   "cell_type": "code",
   "execution_count": 5,
   "id": "8d4d895b-3046-4d44-8a15-dbf00b775c3b",
   "metadata": {
    "tags": []
   },
   "outputs": [],
   "source": [
    "w, v = LA.eig(S)\n",
    "fps = 29.970001220703125\n",
    "dt = 1/fps\n",
    "\n",
    "ind =  np.argmin(np.abs(np.log(w)/dt))\n",
    "omega = np.zeros(w.shape, dtype=np.complex_)\n",
    "omega[ind] = np.abs((np.log(w)/dt))[ind]\n",
    "A2 = copy.copy(omega[ind])\n",
    "\n",
    "eV = np.zeros(v.shape, dtype=np.complex_)\n",
    "eV[:,ind] = v[:,ind]\n",
    "Phi= U@eV\n",
    "\n",
    "y0 = LA.lstsq(Phi, X1[:, 0], rcond=None)[0]"
   ]
  },
  {
   "cell_type": "code",
   "execution_count": 6,
   "id": "042f8c7b-ebfb-47d5-a90e-2c3330e373b1",
   "metadata": {
    "tags": []
   },
   "outputs": [],
   "source": [
    "slices = 676\n",
    "t = np.linspace(0, 2*np.pi, slices+1)"
   ]
  },
  {
   "cell_type": "code",
   "execution_count": 7,
   "id": "17711492-5046-4871-b747-07dc340272dc",
   "metadata": {
    "tags": []
   },
   "outputs": [],
   "source": [
    "u_modes = np.zeros((len(y0), len(t)),np.complex_)\n",
    "\n",
    "for iter in range(len(t)):\n",
    "    u_modes[:, iter] = y0 * np.exp(omega * t[iter])\n",
    "\n",
    "u_dmd = Phi @ u_modes\n",
    "\n",
    "A3 = copy.copy(u_dmd[:,338].reshape(100368,1))"
   ]
  },
  {
   "cell_type": "code",
   "execution_count": 8,
   "id": "23cf8566-cddc-47f9-a381-784354e73e80",
   "metadata": {
    "tags": []
   },
   "outputs": [],
   "source": [
    "background = u_dmd[:,:676]\n",
    "A4 = copy.copy(background[:,337].reshape(100368,1))"
   ]
  },
  {
   "cell_type": "code",
   "execution_count": 9,
   "id": "c0a74723-404d-4ae8-ad26-52d19c4e8525",
   "metadata": {},
   "outputs": [],
   "source": [
    "foreground = np.abs(X-u_dmd[:,:676])\n",
    "A5 = copy.copy(foreground[:,338].reshape(100368,1))"
   ]
  },
  {
   "cell_type": "code",
   "execution_count": 16,
   "id": "ffbc9717-4a53-4fea-9b9a-84c4292ce3ab",
   "metadata": {
    "tags": []
   },
   "outputs": [],
   "source": [
    "A4 = background\n",
    "A5 = foreground\n",
    "height = 408\n",
    "width = 246\n",
    "data_length = 676"
   ]
  }
 ],
 "metadata": {
  "kernelspec": {
   "display_name": "Python 3 (ipykernel)",
   "language": "python",
   "name": "python3"
  },
  "language_info": {
   "codemirror_mode": {
    "name": "ipython",
    "version": 3
   },
   "file_extension": ".py",
   "mimetype": "text/x-python",
   "name": "python",
   "nbconvert_exporter": "python",
   "pygments_lexer": "ipython3",
   "version": "3.8.16"
  }
 },
 "nbformat": 4,
 "nbformat_minor": 5
}
